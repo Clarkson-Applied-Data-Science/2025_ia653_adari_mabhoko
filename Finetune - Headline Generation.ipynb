{
 "cells": [
  {
   "cell_type": "code",
   "execution_count": 22,
   "metadata": {},
   "outputs": [],
   "source": [
    "# STEP 1: Install dependencies\n",
    "!pip install transformers datasets evaluate nltk rouge_score --quiet\n"
   ]
  },
  {
   "cell_type": "code",
   "execution_count": 23,
   "metadata": {},
   "outputs": [],
   "source": [
    "# STEP 2: Imports and setup\n",
    "import os\n",
    "import re\n",
    "import torch\n",
    "import nltk\n",
    "import evaluate\n",
    "import numpy as np\n",
    "from nltk.tokenize import sent_tokenize\n",
    "from datasets import load_dataset, DatasetDict\n",
    "from transformers import (\n",
    "    T5Tokenizer, T5ForConditionalGeneration,\n",
    "    Seq2SeqTrainer, Seq2SeqTrainingArguments,\n",
    "    DataCollatorForSeq2Seq\n",
    ")\n",
    "\n",
    "try:\n",
    "    nltk.data.find(\"tokenizers/punkt\")\n",
    "except LookupError:\n",
    "    nltk.download(\"punkt\")\n",
    "\n",
    "os.environ[\"WANDB_DISABLED\"] = \"true\"\n"
   ]
  },
  {
   "cell_type": "code",
   "execution_count": 24,
   "metadata": {},
   "outputs": [],
   "source": [
    "# STEP 3: Clean text\n",
    "def clean_text(text):\n",
    "    text = re.sub(r\"[^\\w\\s.,!?-]\", \"\", text)\n",
    "    text = re.sub(r\"\\s+\", \" \", text).strip()\n",
    "    return text\n"
   ]
  },
  {
   "cell_type": "code",
   "execution_count": 25,
   "metadata": {},
   "outputs": [],
   "source": [
    "# STEP 4: Load and prepare dataset\n",
    "dataset = load_dataset(\"felixludos/babel-briefings\", split=\"train\")\n",
    "dataset = dataset.filter(lambda x: x[\"language\"] == \"en\" and x[\"content\"] and x[\"title\"])\n",
    "dataset = dataset.remove_columns([col for col in dataset.column_names if col not in [\"content\", \"title\"]])\n",
    "dataset = dataset.shuffle(seed=42)\n",
    "\n",
    "# Use 5000 samples\n",
    "subset = dataset.select(range(5000))\n",
    "train_size = int(0.8 * len(subset))\n",
    "val_size = int(0.1 * len(subset))\n",
    "\n",
    "dataset_splits = DatasetDict({\n",
    "    \"train\": subset.select(range(0, train_size)),\n",
    "    \"validation\": subset.select(range(train_size, train_size + val_size)),\n",
    "    \"test\": subset.select(range(train_size + val_size, len(subset)))\n",
    "})\n"
   ]
  },
  {
   "cell_type": "code",
   "execution_count": 26,
   "metadata": {},
   "outputs": [],
   "source": [
    "# STEP 5: Load tokenizer and model\n",
    "tokenizer = T5Tokenizer.from_pretrained(\"t5-small\")\n",
    "model = T5ForConditionalGeneration.from_pretrained(\"t5-small\")\n"
   ]
  },
  {
   "cell_type": "code",
   "execution_count": 27,
   "metadata": {},
   "outputs": [
    {
     "name": "stderr",
     "output_type": "stream",
     "text": [
      "Map:   0%|          | 0/4000 [00:00<?, ? examples/s]/opt/homebrew/Caskroom/miniforge/base/lib/python3.12/site-packages/transformers/tokenization_utils_base.py:3980: UserWarning: `as_target_tokenizer` is deprecated and will be removed in v5 of Transformers. You can tokenize your labels by using the argument `text_target` of the regular `__call__` method (either in the same call as your input texts if you use the same keyword arguments, or in a separate call.\n",
      "  warnings.warn(\n",
      "Map: 100%|██████████| 4000/4000 [00:01<00:00, 2039.91 examples/s]\n",
      "Map: 100%|██████████| 500/500 [00:00<00:00, 2787.94 examples/s]\n",
      "Map: 100%|██████████| 500/500 [00:00<00:00, 2963.84 examples/s]\n"
     ]
    }
   ],
   "source": [
    "# STEP 6: Preprocessing\n",
    "def preprocess(batch):\n",
    "    inputs = [\"headline: \" + clean_text(c) for c in batch[\"content\"]]\n",
    "    targets = [clean_text(t) for t in batch[\"title\"]]\n",
    "    model_inputs = tokenizer(inputs, max_length=128, padding=\"max_length\", truncation=True)\n",
    "    with tokenizer.as_target_tokenizer():\n",
    "        labels = tokenizer(targets, max_length=32, padding=\"max_length\", truncation=True)\n",
    "    model_inputs[\"labels\"] = labels[\"input_ids\"]\n",
    "    return model_inputs\n",
    "\n",
    "tokenized_datasets = dataset_splits.map(preprocess, batched=True)\n"
   ]
  },
  {
   "cell_type": "code",
   "execution_count": 29,
   "metadata": {},
   "outputs": [],
   "source": [
    "# STEP 7: Training arguments\n",
    "training_args = Seq2SeqTrainingArguments(\n",
    "    output_dir=\"/tmp/t5_headline_output\",\n",
    "    per_device_train_batch_size=2,\n",
    "    per_device_eval_batch_size=2,\n",
    "    num_train_epochs=4,\n",
    "    logging_dir=\"/tmp/logs\",\n",
    "    report_to=\"none\",\n",
    "    no_cuda=True,  \n",
    "    evaluation_strategy=\"epoch\",\n",
    "    save_strategy=\"epoch\"\n",
    ")\n"
   ]
  },
  {
   "cell_type": "code",
   "execution_count": 30,
   "metadata": {},
   "outputs": [
    {
     "name": "stderr",
     "output_type": "stream",
     "text": [
      "/var/folders/kx/v_1zfg513n174gvs4f8kyk9w0000gn/T/ipykernel_57498/3596581270.py:2: FutureWarning: `tokenizer` is deprecated and will be removed in version 5.0.0 for `Seq2SeqTrainer.__init__`. Use `processing_class` instead.\n",
      "  trainer = Seq2SeqTrainer(\n"
     ]
    }
   ],
   "source": [
    "# STEP 8: Define trainer\n",
    "trainer = Seq2SeqTrainer(\n",
    "    model=model,\n",
    "    args=training_args,\n",
    "    train_dataset=tokenized_datasets[\"train\"],\n",
    "    eval_dataset=tokenized_datasets[\"validation\"],\n",
    "    tokenizer=tokenizer,\n",
    "    data_collator=DataCollatorForSeq2Seq(tokenizer, model=model)\n",
    ")\n"
   ]
  },
  {
   "cell_type": "code",
   "execution_count": 31,
   "metadata": {},
   "outputs": [
    {
     "data": {
      "text/html": [
       "\n",
       "    <div>\n",
       "      \n",
       "      <progress value='8000' max='8000' style='width:300px; height:20px; vertical-align: middle;'></progress>\n",
       "      [8000/8000 1:17:53, Epoch 4/4]\n",
       "    </div>\n",
       "    <table border=\"1\" class=\"dataframe\">\n",
       "  <thead>\n",
       " <tr style=\"text-align: left;\">\n",
       "      <th>Epoch</th>\n",
       "      <th>Training Loss</th>\n",
       "      <th>Validation Loss</th>\n",
       "    </tr>\n",
       "  </thead>\n",
       "  <tbody>\n",
       "    <tr>\n",
       "      <td>1</td>\n",
       "      <td>2.674900</td>\n",
       "      <td>2.555214</td>\n",
       "    </tr>\n",
       "    <tr>\n",
       "      <td>2</td>\n",
       "      <td>2.625100</td>\n",
       "      <td>2.502061</td>\n",
       "    </tr>\n",
       "    <tr>\n",
       "      <td>3</td>\n",
       "      <td>2.545200</td>\n",
       "      <td>2.477234</td>\n",
       "    </tr>\n",
       "    <tr>\n",
       "      <td>4</td>\n",
       "      <td>2.437200</td>\n",
       "      <td>2.473821</td>\n",
       "    </tr>\n",
       "  </tbody>\n",
       "</table><p>"
      ],
      "text/plain": [
       "<IPython.core.display.HTML object>"
      ]
     },
     "metadata": {},
     "output_type": "display_data"
    },
    {
     "data": {
      "text/plain": [
       "TrainOutput(global_step=8000, training_loss=2.641712432861328, metrics={'train_runtime': 4674.4815, 'train_samples_per_second': 3.423, 'train_steps_per_second': 1.711, 'total_flos': 541367205888000.0, 'train_loss': 2.641712432861328, 'epoch': 4.0})"
      ]
     },
     "execution_count": 31,
     "metadata": {},
     "output_type": "execute_result"
    }
   ],
   "source": [
    "# STEP 9: Train on MPS\n",
    "device = torch.device(\"mps\" if torch.backends.mps.is_available() else \"cpu\")\n",
    "model.to(device)\n",
    "trainer.train()\n"
   ]
  },
  {
   "cell_type": "code",
   "execution_count": 45,
   "metadata": {},
   "outputs": [],
   "source": [
    "# STEP 10: Generate predictions on test set\n",
    "def generate_headlines_on_test(model, tokenizer, test_set, num_samples=5):\n",
    "    model.eval()\n",
    "    device = torch.device(\"mps\" if torch.backends.mps.is_available() else \"cpu\")\n",
    "    model.to(device)\n",
    "\n",
    "    for i in range(min(num_samples, len(test_set))):\n",
    "        sample = test_set[i]\n",
    "        input_text = \"headline: \" + clean_text(sample[\"content\"])\n",
    "        inputs = tokenizer(input_text, return_tensors=\"pt\", truncation=True, max_length=512)\n",
    "        inputs = {k: v.to(device) for k, v in inputs.items()}\n",
    "\n",
    "        with torch.no_grad():\n",
    "            summary_ids = model.generate(\n",
    "                inputs[\"input_ids\"],\n",
    "                attention_mask=inputs[\"attention_mask\"],\n",
    "                max_length=30,\n",
    "                num_beams=5,\n",
    "                length_penalty=1.2,\n",
    "                early_stopping=True,\n",
    "                no_repeat_ngram_size=2\n",
    "            )\n",
    "\n",
    "        generated = tokenizer.decode(summary_ids[0], skip_special_tokens=True)\n",
    "        print(f\"\\n Sample #{i + 1}\")\n",
    "        print(\"Content:\", sample[\"content\"][:300], \"...\")\n",
    "        print(\"Generated:\", generated)\n",
    "        print(\"Actual   :\", sample[\"title\"])\n"
   ]
  },
  {
   "cell_type": "code",
   "execution_count": 46,
   "metadata": {},
   "outputs": [
    {
     "name": "stdout",
     "output_type": "stream",
     "text": [
      "\n",
      " Sample #1\n",
      "Content: Dwayne ‘The Rock’ Johnson made an appearance on Impact Wrestling’s Bound For Glory PPV. He was there to induct former rival and real-life friend Ken Shamrock. ‘The World’s Most Dangerous Man’ faced T… [+2422 chars] ...\n",
      "Generated: Dwayne The Rock Johnson inducts former rival Ken Shamrock - PPV\n",
      "Actual   : WWE Legend The Rock Makes a Special Appearance on Impact Wrestling - EssentiallySports\n",
      "\n",
      " Sample #2\n",
      "Content: PanCAN staff members celebrate a previous World Pancreatic Cancer Day.\n",
      "Put on all your purple World Pancreatic Cancer Day is Thursday, Nov. 19, 2020.\n",
      "Wearing purple and spreading the word about pan… [+2970 chars] ...\n",
      "Generated: PanCAN staff celebrate a previous World Pancreatic Cancer Day - Daily Mail\n",
      "Actual   : 5 Ways to Take Action on World Pancreatic Cancer Day - Pancreatic Cancer News & Stories\n",
      "\n",
      " Sample #3\n",
      "Content: Sussanne Khan with her friends (courtesy suzkr)\n",
      "Highlights\n",
      "<ul><li>Sussanne shared a selfie with her friends\n",
      "</li><li>She captioned it with a quote by Drew Barrymore\n",
      "</li><li>\"Awww this is love,\"… [+1580 chars] ...\n",
      "Generated: Sussanne Khan shared a selfie with her friends liliSuzkr Highlights ulli\n",
      "Actual   : Sussanne Khan's Pic With Ekta Kapoor And Ridhi Dogra Has A Drew Barrymore Connection - NDTV\n",
      "\n",
      " Sample #4\n",
      "Content: While Money Heist fans are hooked onto the latest season of the series, desi fans seem to have spotted a doppelganger of the show’s criminal mastermind: The Professor.A picture of a man, who looks qu… [+1709 chars] ...\n",
      "Generated: Money Heist fans spotted a doppelganger of The Professor - Daily Mail\n",
      "Actual   : The Professor in Pakistan? Money Heist fans have spotted his doppelganger - The Indian Express\n",
      "\n",
      " Sample #5\n",
      "Content: Una Healy says she feels 'like a different woman' following her split from Ben Foden.\n",
      "The Tipperary native was married to the England rugby star for six years before announcing they were getting div… [+1906 chars] ...\n",
      "Generated: Una Healy says she feels like a different woman after her split from Ben Foden - BBC News\n",
      "Actual   : Una Healy 'feels like a different woman' nearly two years on from Ben Foden split - RSVP Live\n"
     ]
    }
   ],
   "source": [
    " # STEP 11: Run predictions\n",
    "generate_headlines_on_test(model, tokenizer, dataset_splits[\"test\"], num_samples=5)"
   ]
  },
  {
   "cell_type": "code",
   "execution_count": 47,
   "metadata": {},
   "outputs": [],
   "source": [
    "# STEP 11: Compute ROUGE with regex-based sentence splitting\n",
    "rouge = evaluate.load(\"rouge\")\n",
    "\n",
    "def split_sentences(text):\n",
    "    return re.split(r'(?<=[.!?]) +', text)\n",
    "\n",
    "def compute_rouge_score(model, tokenizer, dataset_subset):\n",
    "    model.eval()\n",
    "    device = torch.device(\"mps\" if torch.backends.mps.is_available() else \"cpu\")\n",
    "    model.to(device)\n",
    "\n",
    "    predictions, references = [], []\n",
    "\n",
    "    for sample in dataset_subset:\n",
    "        content = clean_text(sample[\"content\"])\n",
    "        input_text = \"headline: \" + content\n",
    "        inputs = tokenizer(input_text, return_tensors=\"pt\", truncation=True, max_length=512)\n",
    "        inputs = {k: v.to(device) for k, v in inputs.items()}\n",
    "\n",
    "        with torch.no_grad():\n",
    "            summary_ids = model.generate(\n",
    "                inputs[\"input_ids\"],\n",
    "                attention_mask=inputs[\"attention_mask\"],\n",
    "                max_length=20,\n",
    "                num_beams=5,\n",
    "                early_stopping=True,\n",
    "                no_repeat_ngram_size=2\n",
    "            )\n",
    "\n",
    "        decoded_pred = tokenizer.decode(summary_ids[0], skip_special_tokens=True)\n",
    "        decoded_ref = clean_text(sample[\"title\"])\n",
    "\n",
    "        predictions.append(decoded_pred.strip())\n",
    "        references.append(decoded_ref.strip())\n",
    "\n",
    "    decoded_preds = [\"\\n\".join(split_sentences(pred)) for pred in predictions]\n",
    "    decoded_refs = [\"\\n\".join(split_sentences(ref)) for ref in references]\n",
    "\n",
    "    rouge_result = rouge.compute(predictions=decoded_preds, references=decoded_refs, use_stemmer=True)\n",
    "    return {k: round(v * 100, 2) for k, v in rouge_result.items()}\n"
   ]
  },
  {
   "cell_type": "code",
   "execution_count": 48,
   "metadata": {},
   "outputs": [
    {
     "name": "stdout",
     "output_type": "stream",
     "text": [
      "\n",
      "Evaluating train set...\n",
      " Train ROUGE Scores: {'rouge1': 31.73, 'rouge2': 17.18, 'rougeL': 29.35, 'rougeLsum': 29.5}\n",
      "\n",
      "Evaluating validation set...\n",
      " Validation ROUGE Scores: {'rouge1': 29.5, 'rouge2': 12.99, 'rougeL': 25.25, 'rougeLsum': 25.08}\n",
      "\n",
      "Evaluating test set...\n",
      " Test ROUGE Scores: {'rouge1': 33.59, 'rouge2': 16.15, 'rougeL': 28.65, 'rougeLsum': 29.35}\n"
     ]
    }
   ],
   "source": [
    "# STEP 12: Evaluate ROUGE on all splits\n",
    "for split in [\"train\", \"validation\", \"test\"]:\n",
    "    print(f\"\\nEvaluating {split} set...\")\n",
    "    subset = dataset_splits[split].select(range(50))\n",
    "    scores = compute_rouge_score(model, tokenizer, subset)\n",
    "    print(f\" {split.capitalize()} ROUGE Scores:\", scores)\n"
   ]
  },
  {
   "cell_type": "code",
   "execution_count": 49,
   "metadata": {},
   "outputs": [],
   "source": [
    "import math\n",
    "from torch.utils.data import DataLoader\n",
    "\n",
    "def compute_perplexity(model, tokenizer, dataset_subset, batch_size=2):\n",
    "    model.eval()\n",
    "    device = torch.device(\"mps\" if torch.backends.mps.is_available() else \"cpu\")\n",
    "    model.to(device)\n",
    "\n",
    "    # Prepare DataLoader\n",
    "    def collate_fn(batch):\n",
    "        input_texts = [\"headline: \" + clean_text(example[\"content\"]) for example in batch]\n",
    "        target_texts = [clean_text(example[\"title\"]) for example in batch]\n",
    "        \n",
    "        inputs = tokenizer(input_texts, padding=\"longest\", truncation=True, return_tensors=\"pt\", max_length=512)\n",
    "        with tokenizer.as_target_tokenizer():\n",
    "            labels = tokenizer(target_texts, padding=\"longest\", truncation=True, return_tensors=\"pt\", max_length=64)\n",
    "\n",
    "        inputs[\"labels\"] = labels[\"input_ids\"]\n",
    "        return {k: v.to(device) for k, v in inputs.items()}\n",
    "\n",
    "    dataloader = DataLoader(dataset_subset, batch_size=batch_size, collate_fn=collate_fn)\n",
    "    \n",
    "    total_loss = 0\n",
    "    total_tokens = 0\n",
    "\n",
    "    with torch.no_grad():\n",
    "        for batch in dataloader:\n",
    "            outputs = model(**batch)\n",
    "            loss = outputs.loss\n",
    "            num_tokens = torch.sum(batch[\"labels\"] != -100)\n",
    "            total_loss += loss.item() * num_tokens\n",
    "            total_tokens += num_tokens\n",
    "\n",
    "    avg_neg_log_likelihood = total_loss / total_tokens\n",
    "    perplexity = math.exp(avg_neg_log_likelihood)\n",
    "    return round(perplexity, 4)\n"
   ]
  },
  {
   "cell_type": "code",
   "execution_count": 50,
   "metadata": {},
   "outputs": [
    {
     "name": "stdout",
     "output_type": "stream",
     "text": [
      "\n",
      "Calculating Perplexity:\n"
     ]
    },
    {
     "name": "stderr",
     "output_type": "stream",
     "text": [
      "/opt/homebrew/Caskroom/miniforge/base/lib/python3.12/site-packages/transformers/tokenization_utils_base.py:3980: UserWarning: `as_target_tokenizer` is deprecated and will be removed in v5 of Transformers. You can tokenize your labels by using the argument `text_target` of the regular `__call__` method (either in the same call as your input texts if you use the same keyword arguments, or in a separate call.\n",
      "  warnings.warn(\n"
     ]
    },
    {
     "name": "stdout",
     "output_type": "stream",
     "text": [
      " Train Perplexity: 12.9991\n",
      " Validation Perplexity: 18.1387\n",
      " Test Perplexity: 14.6997\n"
     ]
    }
   ],
   "source": [
    "print(\"\\nCalculating Perplexity:\")\n",
    "for split in [\"train\", \"validation\", \"test\"]:\n",
    "    subset = dataset_splits[split].select(range(50))\n",
    "    ppl = compute_perplexity(model, tokenizer, subset)\n",
    "    print(f\" {split.capitalize()} Perplexity: {ppl}\")\n"
   ]
  },
  {
   "cell_type": "code",
   "execution_count": 51,
   "metadata": {},
   "outputs": [
    {
     "data": {
      "image/png": "[encoded data removed]",
      "text/plain": [
       "<Figure size 1000x500 with 2 Axes>"
      ]
     },
     "metadata": {},
     "output_type": "display_data"
    }
   ],
   "source": [
    "import matplotlib.pyplot as plt\n",
    "\n",
    "# Manually enter your results\n",
    "splits = [\"Train\", \"Validation\", \"Test\"]\n",
    "\n",
    "# ROUGE Scores (%)\n",
    "rouge1 = [31.73, 29.50, 33.59]\n",
    "rouge2 = [17.18, 12.99, 16.15]\n",
    "rougeL = [29.35, 25.25, 28.65]\n",
    "\n",
    "# Perplexity Scores\n",
    "perplexity = [12.9991, 18.1387, 14.6997]\n",
    "\n",
    "# Plot ROUGE\n",
    "plt.figure(figsize=(10, 5))\n",
    "plt.subplot(1, 2, 1)\n",
    "plt.plot(splits, rouge1, marker='o', label=\"ROUGE-1\")\n",
    "plt.plot(splits, rouge2, marker='o', label=\"ROUGE-2\")\n",
    "plt.plot(splits, rougeL, marker='o', label=\"ROUGE-L\")\n",
    "plt.title(\"ROUGE Scores by Data Split\")\n",
    "plt.xlabel(\"Dataset Split\")\n",
    "plt.ylabel(\"ROUGE Score (%)\")\n",
    "plt.legend()\n",
    "plt.grid(True)\n",
    "\n",
    "# Plot Perplexity\n",
    "plt.subplot(1, 2, 2)\n",
    "plt.bar(splits, perplexity, color=[\"skyblue\", \"salmon\", \"lightgreen\"])\n",
    "plt.title(\"Perplexity by Data Split\")\n",
    "plt.ylabel(\"Perplexity (lower is better)\")\n",
    "plt.grid(True, axis=\"y\")\n",
    "\n",
    "plt.tight_layout()\n",
    "plt.show()\n"
   ]
  },
  {
   "cell_type": "code",
   "execution_count": null,
   "metadata": {},
   "outputs": [],
   "source": []
  }
 ],
 "metadata": {
  "kernelspec": {
   "display_name": "base",
   "language": "python",
   "name": "python3"
  },
  "language_info": {
   "codemirror_mode": {
    "name": "ipython",
    "version": 3
   },
   "file_extension": ".py",
   "mimetype": "text/x-python",
   "name": "python",
   "nbconvert_exporter": "python",
   "pygments_lexer": "ipython3",
   "version": "3.12.5"
  }
 },
 "nbformat": 4,
 "nbformat_minor": 2
}
